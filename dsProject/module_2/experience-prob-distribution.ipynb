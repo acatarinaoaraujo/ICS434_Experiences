{
 "cells": [
  {
   "cell_type": "markdown",
   "id": "713c60c7",
   "metadata": {},
   "source": [
    "##### Q.1 \n",
    "\n",
    "Consider the loaded die with the following probabilities:\n",
    "```\n",
    "    p(1) = 0.3/6\n",
    "    p(2) = 0.7/6\n",
    "    p(3) =   2/6\n",
    "    p(4) = 0.5/6\n",
    "    p(5) = 0.2/6\n",
    "    p(6) = 2.3/6\n",
    "```\n"
   ]
  },
  {
   "cell_type": "markdown",
   "id": "dbe12bdf",
   "metadata": {},
   "source": [
    "##### Q.2 \n",
    "* Plot the probability distribution above\n",
    "  * Select the most appropriate visualization to do so."
   ]
  },
  {
   "cell_type": "code",
   "execution_count": 46,
   "id": "f519fe80",
   "metadata": {
    "scrolled": true
   },
   "outputs": [
    {
     "data": {
      "text/plain": [
       "([<matplotlib.axis.XTick at 0x7fe2a4eecb50>,\n",
       "  <matplotlib.axis.XTick at 0x7fe2a4eecb20>,\n",
       "  <matplotlib.axis.XTick at 0x7fe2a4eec9a0>,\n",
       "  <matplotlib.axis.XTick at 0x7fe2a4fecc10>,\n",
       "  <matplotlib.axis.XTick at 0x7fe2a4ffb700>,\n",
       "  <matplotlib.axis.XTick at 0x7fe2a4ffbe50>],\n",
       " [Text(1, 0, 'p(1)'),\n",
       "  Text(2, 0, 'p(2)'),\n",
       "  Text(3, 0, 'p(3)'),\n",
       "  Text(4, 0, 'p(4)'),\n",
       "  Text(5, 0, 'p(5)'),\n",
       "  Text(6, 0, 'p(6)')])"
      ]
     },
     "execution_count": 46,
     "metadata": {},
     "output_type": "execute_result"
    },
    {
     "data": {
      "image/png": "[encoded data removed]",
      "text/plain": [
       "<Figure size 720x360 with 1 Axes>"
      ]
     },
     "metadata": {
      "needs_background": "light"
     },
     "output_type": "display_data"
    }
   ],
   "source": [
    "import numpy as np\n",
    "import matplotlib.pyplot as plt\n",
    "import random\n",
    "\n",
    "probabilities = [0.3/6, 0.7/6, 2/6, 0.5/6, 0.2/6, 2.3/6]\n",
    "prob_list = list(range(1, len(probabilities)+1))\n",
    "\n",
    "fig = plt.figure(figsize = (10, 5))\n",
    "plt.bar(prob_list, probabilities, color ='#68ab69', edgecolor ='#3c803d', width = 0.8)\n",
    "\n",
    "plt.title('Loaded Dice Probability')\n",
    "plt.ylabel('Probability')\n",
    "plt.xticks(range(1, 7), ('p(1)', 'p(2)', 'p(3)', 'p(4)', 'p(5)', 'p(6)'))\n"
   ]
  },
  {
   "cell_type": "markdown",
   "id": "2bebd2a7",
   "metadata": {},
   "source": [
    "##### Q.3 \n",
    "* Based only on the plot above, can you predict the mean value of a random variable consisting of values obtaining from rolling a die  that follows the probability distribution given above? Explain your reasoning."
   ]
  },
  {
   "cell_type": "code",
   "execution_count": 78,
   "id": "9144c2f9",
   "metadata": {},
   "outputs": [
    {
     "data": {
      "text/plain": [
       "4.083333333333333"
      ]
     },
     "execution_count": 78,
     "metadata": {},
     "output_type": "execute_result"
    }
   ],
   "source": [
    "# Yes, we can use the formula μ = Σx * P(x), where x is data value and P(x) is the probability of value\n",
    "mean_prediction = sum([probabilities[i] * prob_list[i] for i in range(len(probabilities))])\n",
    "mean_prediction"
   ]
  },
  {
   "cell_type": "markdown",
   "id": "007f6984",
   "metadata": {},
   "source": [
    "##### Q.4\n",
    "* Sample 5000 die rolls such that the probabilities of obtaining the values 1 through 6 are distributed according probabilities above. Use these samples to estimate the mean of the random variable. \n"
   ]
  },
  {
   "cell_type": "code",
   "execution_count": 80,
   "id": "5bc38d79",
   "metadata": {},
   "outputs": [
    {
     "data": {
      "text/plain": [
       "4.0562"
      ]
     },
     "execution_count": 80,
     "metadata": {},
     "output_type": "execute_result"
    }
   ],
   "source": [
    "sample_size = 5000\n",
    "mean_random = sum(random.choices(prob_list, weights = probabilities, k=sample_size))/sample_size\n",
    "mean_random "
   ]
  },
  {
   "cell_type": "markdown",
   "id": "78152616",
   "metadata": {},
   "source": [
    "##### Q.5 \n",
    "\n",
    "* Does the mean match your prediction in Q.3 above? Explain your answer.\n"
   ]
  },
  {
   "cell_type": "markdown",
   "id": "d3f9c975",
   "metadata": {},
   "source": [
    "Although there is a difference between the two results above, the difference remains very small. \n",
    "And thus, we can say that the mean of the random variable matches the prediction. The larger the sample size, the most accurate the result will be. Examples above using smaller sample size x larger sample size."
   ]
  },
  {
   "cell_type": "code",
   "execution_count": 81,
   "id": "58585703",
   "metadata": {},
   "outputs": [
    {
     "data": {
      "text/plain": [
       "4.66"
      ]
     },
     "execution_count": 81,
     "metadata": {},
     "output_type": "execute_result"
    }
   ],
   "source": [
    "samples_rolls = sum(random.choices(prob_list, weights = probabilities, k=50))/50\n",
    "samples_rolls"
   ]
  },
  {
   "cell_type": "code",
   "execution_count": 82,
   "id": "ef20c4a4",
   "metadata": {},
   "outputs": [
    {
     "data": {
      "text/plain": [
       "4.08368"
      ]
     },
     "execution_count": 82,
     "metadata": {},
     "output_type": "execute_result"
    }
   ],
   "source": [
    "samples_rolls = sum(random.choices(prob_list, weights = probabilities, k=50000))/50000\n",
    "samples_rolls"
   ]
  }
 ],
 "metadata": {
  "kernelspec": {
   "display_name": "Python 3 (ipykernel)",
   "language": "python",
   "name": "python3"
  },
  "language_info": {
   "codemirror_mode": {
    "name": "ipython",
    "version": 3
   },
   "file_extension": ".py",
   "mimetype": "text/x-python",
   "name": "python",
   "nbconvert_exporter": "python",
   "pygments_lexer": "ipython3",
   "version": "3.9.7"
  }
 },
 "nbformat": 4,
 "nbformat_minor": 5
}
